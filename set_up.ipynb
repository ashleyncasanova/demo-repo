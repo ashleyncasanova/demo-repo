{
 "cells": [
  {
   "attachments": {},
   "cell_type": "markdown",
   "metadata": {},
   "source": [
    "### <mark >Setting up a Project Folder</mark>"
   ]
  },
  {
   "attachments": {},
   "cell_type": "markdown",
   "metadata": {},
   "source": [
    "#### <span style=\"color:hotpink\">Your project folder should contain:</span>\n",
    "* Data\n",
    "* Conda Environment\n",
    "\n",
    ">Note: I like to add a `README.md` and a `.gitignore` file when working with github."
   ]
  },
  {
   "attachments": {},
   "cell_type": "markdown",
   "metadata": {},
   "source": [
    "<span style=\"color:pink\">Data</span>\n",
    "\n",
    "Any data relevant to your project. Usually a csv file.\n",
    "\n",
    "\\\n",
    "<span style=\"color:pink\">Conda Environment</span>\n",
    "\n",
    "Contains tools you want to use for your project (matplotlib, pandas, jupyter notebook, etc.).\n",
    "\n",
    "Used to avoid dependency issues, because you can share the same set of tools/ packages."
   ]
  },
  {
   "attachments": {},
   "cell_type": "markdown",
   "metadata": {},
   "source": [
    "___\n",
    "### <mark >Step 1: Download/Insall Anaconda (3GB) or Miniconda (200MB)</span>"
   ]
  },
  {
   "cell_type": "markdown",
   "metadata": {},
   "source": []
  },
  {
   "cell_type": "code",
   "execution_count": null,
   "metadata": {},
   "outputs": [],
   "source": []
  },
  {
   "attachments": {},
   "cell_type": "markdown",
   "metadata": {},
   "source": [
    "hi!\n",
    "\n",
    "I am testing to see if there are any problems after changing repo name.\n",
    "\n",
    "Added `.gitignore` from `Python.gitignore` template [see here for more templates](https://github.com/github/gitignore)\n",
    "\n",
    "created conda env using `conda create --prefix ./env pandas numpy matplotlib scikit-learn`\n",
    "\n",
    "conda environment was activated using `conda activate /Users/.../project-setup/env`\n",
    "\n",
    "jupyter was added to the `env` folder using `conda install jupyter`\n",
    "\n",
    "currently env takes up 2.17 GB of storage."
   ]
  }
 ],
 "metadata": {
  "kernelspec": {
   "display_name": "base",
   "language": "python",
   "name": "python3"
  },
  "language_info": {
   "name": "python",
   "version": "3.8.8"
  },
  "orig_nbformat": 4,
  "vscode": {
   "interpreter": {
    "hash": "7c2753ee3d3b747e2bc727f5ec1bf0708a31b4b3dd6e00944156fdd88e394a6e"
   }
  }
 },
 "nbformat": 4,
 "nbformat_minor": 2
}
