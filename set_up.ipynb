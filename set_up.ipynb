{
 "cells": [
  {
   "attachments": {},
   "cell_type": "markdown",
   "metadata": {},
   "source": [
    "### <mark >Setting up a Project Folder</mark>"
   ]
  },
  {
   "attachments": {},
   "cell_type": "markdown",
   "metadata": {},
   "source": [
    "#### <span style=\"color:hotpink\">Your project folder should contain:</span>\n",
    "\n",
    "<span style=\"color:pink\">Data</span>\n",
    "\n",
    "Any data relevant to your project. Usually a csv file.\n",
    "\n",
    "\\\n",
    "<span style=\"color:pink\">Conda Environment</span>\n",
    "\n",
    "Contains tools you want to use for your project (matplotlib, pandas, jupyter notebook, etc.).\n",
    "\n",
    "Used to avoid dependency issues, because you can share the same set of tools/ packages.\n",
    "\n",
    "\\\n",
    "<span style=\"color:pink\">README.md (optional)</span>\n",
    "\n",
    "You can add a README file to a repository to communicate important information about your project.\n",
    "\n",
    "See [documentation](https://docs.github.com/en/repositories/managing-your-repositorys-settings-and-features/customizing-your-repository/about-readmes) for more information.\n",
    "\n",
    "\\\n",
    "<span style=\"color:pink\">.gitignore (optional)</span>\n",
    "\n",
    "File specifies intentionally untracked files that Git should ignore.\n",
    "\n",
    "Files already tracked by Git are not affected.\n",
    "\n",
    "To stop tracking a file that is currently tracked, use `git rm --cached FILENAME`\n",
    "\n",
    "See [documentation](https://docs.github.com/en/get-started/getting-started-with-git/ignoring-files) for more information."
   ]
  },
  {
   "attachments": {},
   "cell_type": "markdown",
   "metadata": {},
   "source": [
    "___\n",
    "### <mark >Step 1: Download/Insall Anaconda or Miniconda</span>\n",
    "\n",
    "You can download anaconda (3 GB) or miniconda (200 MB) [here](https://conda.io/projects/conda/en/stable/user-guide/install/download.html).\n",
    "\n",
    "Download the pkg version for Mac.\n",
    "\n",
    ">Note: Python 2 is being phased out so it is recommended to get the Python 3 version."
   ]
  },
  {
   "attachments": {},
   "cell_type": "markdown",
   "metadata": {},
   "source": [
    "___\n",
    "### <mark >Step 2: Create Project Folder</mark>\n",
    "\n",
    "Using the terminal or graphical interface to create your project folder.\n",
    "\n",
    "If you are using the terminal, you want to `cd` into the directory you want your project located.\n",
    "\n",
    "```\n",
    "cd Desktop\n",
    "```\n",
    "\n",
    "Then, you want to create your project folder.\n",
    "\n",
    "```\n",
    "mkdir PROJECT-FOLDER\n",
    "```\n",
    "\n",
    "Next, you want to `cd` into your project folder.\n",
    "\n",
    "```\n",
    "cd PROJECT-FOLDER\n",
    "```"
   ]
  },
  {
   "attachments": {},
   "cell_type": "markdown",
   "metadata": {},
   "source": [
    "___\n",
    "### <mark >Step 3: Initialize GitHub Repository</span>\n",
    "\n",
    "A repository or project contains all of the coding files and folders for a specific project.\n",
    "\n",
    "Creating a repository through github allows for version control and collaboration.\n",
    "\n",
    "See [here](https://docs.github.com/en/get-started/quickstart/hello-world) for more information.\n",
    "\n",
    "\\\n",
    "First, we need to initialize a git repository.\n",
    "\n",
    "```\n",
    "git init\n",
    "```\n",
    "\n",
    "By convention, we rename the branch to main.\n",
    "\n",
    "```\n",
    "git branch -m main\n",
    "```\n",
    "\n",
    "\\\n",
    "At this point we can open our project in VS Code (we could have opened at the beginning of this step too).\n",
    "\n",
    "```\n",
    "code .\n",
    "```\n",
    "\n",
    "VS Code is a source code editor with an integrated terminal that streamlines workflow.\n",
    "\n",
    "See the [documentation](https://code.visualstudio.com/docs) for more information.\n",
    "\n",
    "\\\n",
    "The remaining commands are conducted through VS Codes integrated terminal which can be accessed using the shortcut `control` + `~`"
   ]
  },
  {
   "attachments": {},
   "cell_type": "markdown",
   "metadata": {},
   "source": [
    "___\n",
    "### <mark >Step 4: Add a README.md File</mark>\n",
    "\n",
    "We can create our README.md file using the graphical interface or the terminal. \n",
    "\n",
    "If you are using the terminal you can use the following command.\n",
    "\n",
    "```\n",
    "touch README.md\n",
    "```\n",
    "\n"
   ]
  },
  {
   "attachments": {},
   "cell_type": "markdown",
   "metadata": {},
   "source": [
    "___\n",
    "### <mark >Step 5: Add Initial Commit</mark> \n",
    "\n",
    "To add a change in the working directory to the staging are:\n",
    "\n",
    "```\n",
    "git add .\n",
    "```\n",
    "\n",
    "Next, we want to commit the changes we made.\n",
    "\n",
    "```\n",
    "git commit -m \"initial commit\"\n",
    "```"
   ]
  },
  {
   "attachments": {},
   "cell_type": "markdown",
   "metadata": {},
   "source": [
    "___\n",
    "### <mark >Step 6: Push to GitHub</mark>\n",
    "\n",
    "1. Navigate to GitHub"
   ]
  },
  {
   "cell_type": "markdown",
   "metadata": {},
   "source": [
    "___\n",
    "### <mark >Step 2: "
   ]
  },
  {
   "cell_type": "markdown",
   "metadata": {},
   "source": [
    "___\n",
    "### <mark >Step 2: "
   ]
  },
  {
   "cell_type": "code",
   "execution_count": null,
   "metadata": {},
   "outputs": [],
   "source": []
  },
  {
   "attachments": {},
   "cell_type": "markdown",
   "metadata": {},
   "source": [
    "hi!\n",
    "\n",
    "I am testing to see if there are any problems after changing repo name.\n",
    "\n",
    "Added `.gitignore` from `Python.gitignore` template [see here for more templates](https://github.com/github/gitignore)\n",
    "\n",
    "created conda env using `conda create --prefix ./env pandas numpy matplotlib scikit-learn`\n",
    "\n",
    "conda environment was activated using `conda activate /Users/.../project-setup/env`\n",
    "\n",
    "jupyter was added to the `env` folder using `conda install jupyter`\n",
    "\n",
    "currently env takes up 2.17 GB of storage."
   ]
  }
 ],
 "metadata": {
  "kernelspec": {
   "display_name": "base",
   "language": "python",
   "name": "python3"
  },
  "language_info": {
   "name": "python",
   "version": "3.8.8"
  },
  "orig_nbformat": 4,
  "vscode": {
   "interpreter": {
    "hash": "7c2753ee3d3b747e2bc727f5ec1bf0708a31b4b3dd6e00944156fdd88e394a6e"
   }
  }
 },
 "nbformat": 4,
 "nbformat_minor": 2
}
